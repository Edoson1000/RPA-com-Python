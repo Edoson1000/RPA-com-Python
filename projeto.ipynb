{
 "cells": [
  {
   "cell_type": "code",
   "execution_count": null,
   "metadata": {},
   "outputs": [],
   "source": [
    
    "x , y, largura, altura = pyautogui.locateOnScreen('g-mail.png')\n",
    "pyautogui.click(x + largura/2, y + altura/2)\n",
    "\n",
    "################################################################"
   ]
  },
  {
   "cell_type": "code",
   "execution_count": 3,
   "metadata": {},
   "outputs": [
    {
     "data": {
      "text/plain": [
       "'OK'"
      ]
     },
     "execution_count": 3,
     "metadata": {},
     "output_type": "execute_result"
    }
   ],
   "source": [
    "from time import sleep\n",
    "import pyperclip\n",
    "import pyautogui\n",
    "import win32gui\n",
    "import win32con\n",
    "import pandas as pd\n",
    "\n",
    "pyautogui.alert('Isso deu trabalho e muito erros, então por favor não mecha no teclado ate acabar \"Edson Agradece\".')\n",
    "\n",
    "pyautogui.PAUSE= 2\n",
    "pos_gmail = 324, 275\n",
    "pos_pontinhos =  1811, 76\n",
    "pos_contatos =  1570, 578\n",
    "pos_frequentes = 190, 316\n",
    "pos_clicar_email= 480, 397\n",
    "pos_caixa = 1786, 249\n",
    "\n",
    "\n",
    "\n",
    "pyautogui.press('win')\n",
    "pyautogui.write('microsoft edge')\n",
    "pyautogui.press('enter')\n",
    "pyautogui.write('gmail')\n",
    "pyautogui.press('enter')\n",
    "hwnd =win32gui.GetForegroundWindow()  # Obtém a janela ativa\n",
    "win32gui.ShowWindow(hwnd, win32con.SW_MAXIMIZE)  # Maximiza a janela\n",
    "pyautogui.click(pos_gmail)\n",
    "pyautogui.click(pos_pontinhos)\n",
    "pyautogui.click(pos_contatos)\n",
    "pyautogui.click(pos_frequentes)\n",
    "pyautogui.click(pos_clicar_email)\n",
    "pyautogui.click(pos_caixa)\n",
    "sleep(1.30)\n",
    "pyautogui.write('Edson..')\n",
    "pyautogui.press('tab')\n",
    "texto = '''\n",
    "Saiba que Deus te ama, ele o amou tanto\n",
    "que deu seu único filho para te dar a salvação.. 😊\n",
    "\n",
    "'''\n",
    "pyperclip.copy(texto)\n",
    "pyautogui.hotkey('ctrl','v')\n",
    "pyautogui.hotkey('ctrl','enter')\n",
    "\n",
    "\n",
    "pyautogui.alert('Automação comcluida com susseço.. agora pode vouta a mecher no teclado.')\n",
    "\n",
    "\n",
    "\n",
    "\n",
    "\n",
    "\n",
    "\n",
    "\n",
    "\n",
    "\n",
    "    \n",
    "\n",
    "\n"
   ]
  },
  {
   "cell_type": "code",
   "execution_count": null,
   "metadata": {},
   "outputs": [],
   "source": [
    "import pandas as pd\n",
    "df = pd.read_csv(r'C:\\Users\\Edson\\OneDrive\\Documentos\\contacts.csv')\n",
    "\n",
    "display(df)"
   ]
  },
  {
   "cell_type": "code",
   "execution_count": 203,
   "metadata": {},
   "outputs": [
    {
     "name": "stdout",
     "output_type": "stream",
     "text": [
      "Posição atual do cursor: 1786, 249\n"
     ]
    }
   ],
   "source": [
    "from time import sleep\n",
    "\n",
    "sleep(5)\n",
    "posicao = pyautogui.position()\n",
    "print(f\"Posição atual do cursor: {posicao.x}, {posicao.y}\")\n"
   ]
  }
 ],
 "metadata": {
  "kernelspec": {
   "display_name": "Python 3",
   "language": "python",
   "name": "python3"
  },
  "language_info": {
   "codemirror_mode": {
    "name": "ipython",
    "version": 3
   },
   "file_extension": ".py",
   "mimetype": "text/x-python",
   "name": "python",
   "nbconvert_exporter": "python",
   "pygments_lexer": "ipython3",
   "version": "3.12.7"
  }
 },
 "nbformat": 4,
 "nbformat_minor": 2
}
